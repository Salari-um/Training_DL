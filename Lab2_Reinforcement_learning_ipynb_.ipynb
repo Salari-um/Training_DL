{
  "nbformat": 4,
  "nbformat_minor": 0,
  "metadata": {
    "colab": {
      "provenance": []
    },
    "kernelspec": {
      "name": "python3",
      "display_name": "Python 3"
    },
    "language_info": {
      "name": "python"
    }
  },
  "cells": [
    {
      "cell_type": "markdown",
      "source": [
        "**Алгоритм обучения методом положительного и отрицательного подкрепления**"
      ],
      "metadata": {
        "id": "k0-S14qtCH-k"
      }
    },
    {
      "cell_type": "code",
      "source": [
        "import numpy as np\n",
        "from tensorflow.keras.datasets import mnist\n",
        "\n",
        "\n",
        "# Функция активации (сигмоида)\n",
        "def sigmoid(x):\n",
        "    return 1 / (1 + np.exp(-x))\n",
        "\n",
        "# Подготовка данных\n",
        "(x_train, y_train), (x_test, y_test) = mnist.load_data()\n",
        "\n",
        "# Нормализация данных\n",
        "x_train = x_train / 255.0\n",
        "x_test = x_test / 255.0\n",
        "\n",
        "# Преобразование меток в категориальный формат\n",
        "num_classes = 10\n",
        "y_train = np.eye(num_classes)[y_train]\n",
        "y_test = np.eye(num_classes)[y_test]\n",
        "\n",
        "# Преобразование изображений в векторы\n",
        "x_train = x_train.reshape(x_train.shape[0], -1)\n",
        "x_test = x_test.reshape(x_test.shape[0], -1)\n",
        "\n",
        "# Перспетрон\n",
        "class Perceptron:\n",
        "    # Инициализация персептрона\n",
        "    def __init__(self, input_size, num_classes):\n",
        "        # Инициализация весов небольшими случайными значениями\n",
        "        self.weights = np.random.randn(input_size, num_classes) * 0.01\n",
        "        # Инициализация смещений небольшими случайными значениями\n",
        "        self.biases = np.random.randn(num_classes) * 0.01\n",
        "\n",
        "    # Применение функции активации\n",
        "    def activation_function(self, x):\n",
        "        return sigmoid(x)\n",
        "\n",
        "    # Прогнозирование выходных значений\n",
        "    def predict(self, x):\n",
        "        z = np.dot(x, self.weights) + self.biases\n",
        "        a = self.activation_function(z)\n",
        "        return a > 0.5\n",
        "\n",
        "    # Обучение персептрона\n",
        "    def train(self, X, y, epochs, learning_rate):\n",
        "        best_loss = float('inf')\n",
        "        patience = 10\n",
        "        patience_counter = 0\n",
        "\n",
        "        for epoch in range(epochs):\n",
        "            total_loss = 0\n",
        "            for i in range(len(X)):\n",
        "                prediction = self.predict(X[i])\n",
        "                error = y[i] - prediction\n",
        "                self.weights += learning_rate * np.dot(X[i][:, np.newaxis], error[np.newaxis, :])\n",
        "                self.biases += learning_rate * error\n",
        "                total_loss += np.mean(np.square(error))\n",
        "\n",
        "            average_loss = total_loss / len(X)\n",
        "            print(f'Эпоха {epoch}, Потери: {average_loss}')\n",
        "\n",
        "            # Ранняя остановка, если потери не уменьшаются\n",
        "            if average_loss < best_loss:\n",
        "                best_loss = average_loss\n",
        "                patience_counter = 0\n",
        "            else:\n",
        "                patience_counter += 1\n",
        "                if patience_counter >= patience:\n",
        "                    print(f'Нет улучшений на протяжении {patience} эпох')\n",
        "                    break\n",
        "\n",
        "train_data = x_train\n",
        "test_data = x_test\n",
        "train_labels_encoded = y_train\n",
        "test_labels_encoded = y_test\n",
        "\n",
        "\n",
        "# Создание и обучение персептрона\n",
        "perceptron = Perceptron(train_data.shape[1],10)\n",
        "perceptron.train(train_data, train_labels_encoded, epochs=20, learning_rate=0.05)\n",
        "\n",
        "\n",
        "\n"
      ],
      "metadata": {
        "colab": {
          "base_uri": "https://localhost:8080/"
        },
        "id": "yO-upc5AwLp8",
        "outputId": "ad1cbc1b-9d5b-4b57-f290-8b6021a3dae2"
      },
      "execution_count": 18,
      "outputs": [
        {
          "output_type": "stream",
          "name": "stdout",
          "text": [
            "Эпоха 0, Потери: 0.03660999999999166\n",
            "Эпоха 1, Потери: 0.032154999999994695\n",
            "Эпоха 2, Потери: 0.031696666666661516\n",
            "Эпоха 3, Потери: 0.031211666666661624\n",
            "Эпоха 4, Потери: 0.03075666666666183\n",
            "Эпоха 5, Потери: 0.030604999999995264\n",
            "Эпоха 6, Потери: 0.030309999999995327\n",
            "Эпоха 7, Потери: 0.030516666666661914\n",
            "Эпоха 8, Потери: 0.030336666666661995\n",
            "Эпоха 9, Потери: 0.030054999999995367\n",
            "Эпоха 10, Потери: 0.030076666666662148\n",
            "Эпоха 11, Потери: 0.030148333333328767\n",
            "Эпоха 12, Потери: 0.029953333333328995\n",
            "Эпоха 13, Потери: 0.02989666666666229\n",
            "Эпоха 14, Потери: 0.02998666666666224\n",
            "Эпоха 15, Потери: 0.029881666666662136\n",
            "Эпоха 16, Потери: 0.029914999999995428\n",
            "Эпоха 17, Потери: 0.029776666666662354\n",
            "Эпоха 18, Потери: 0.02977999999999552\n",
            "Эпоха 19, Потери: 0.02989833333332886\n"
          ]
        }
      ]
    }
  ]
}